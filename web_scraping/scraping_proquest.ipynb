{
 "cells": [
  {
   "cell_type": "code",
   "execution_count": 2,
   "id": "dafd5c8b",
   "metadata": {},
   "outputs": [],
   "source": [
    "from selenium import webdriver\n",
    "from selenium.webdriver.common.by import By\n",
    "import chromedriver_autoinstaller\n",
    "from selenium.common.exceptions import NoSuchElementException\n",
    "import re\n",
    "import time"
   ]
  },
  {
   "cell_type": "code",
   "execution_count": 3,
   "id": "9780b85a",
   "metadata": {},
   "outputs": [],
   "source": [
    "import pandas as pd\n",
    "import numpy as np"
   ]
  },
  {
   "cell_type": "code",
   "execution_count": 4,
   "id": "94cf8a3b",
   "metadata": {},
   "outputs": [],
   "source": [
    "import requests\n",
    "import random\n",
    "from bs4 import BeautifulSoup as bs\n",
    "import traceback"
   ]
  },
  {
   "cell_type": "code",
   "execution_count": 5,
   "id": "a720183d",
   "metadata": {},
   "outputs": [],
   "source": [
    "opts = webdriver.ChromeOptions()\n",
    "opts.headless =True"
   ]
  },
  {
   "cell_type": "code",
   "execution_count": 7,
   "id": "a22df6ae",
   "metadata": {
    "scrolled": true
   },
   "outputs": [],
   "source": [
    "chromedriver_autoinstaller.install()\n",
    "driver = webdriver.Chrome()\n",
    "driver.implicitly_wait(10)"
   ]
  },
  {
   "cell_type": "code",
   "execution_count": 8,
   "id": "25270442",
   "metadata": {},
   "outputs": [],
   "source": [
    "search_url = \"https://www.proquest.com/washingtonpost?accountid=29989\"\n",
    "driver.get(search_url)\n"
   ]
  },
  {
   "cell_type": "code",
   "execution_count": 9,
   "id": "f20d99d8",
   "metadata": {},
   "outputs": [],
   "source": [
    "driver.find_element(By.XPATH, '//*[@id=\"product-level-nav\"]/li[2]').click()"
   ]
  },
  {
   "cell_type": "code",
   "execution_count": 10,
   "id": "a208b335",
   "metadata": {},
   "outputs": [],
   "source": [
    "keys = \"\"\"((federal reserve) OR (fed)) AND((money supply) OR (open market operations) OR\n",
    "(quantitative easing) OR (monetary policy) OR (fed funds rate) OR (overnight lending rate) OR\n",
    "Bernanke OR Volker OR Greenspan OR Yellen OR Powell OR (central bank) OR (interest rates) OR (fed chairman) OR\n",
    "(fed chair) OR (lender of last resort) OR (discount window) OR (European Central Bank) OR ECB OR (Bank of England) OR\n",
    "(Bank of Japan) OR BOJ OR (Bank of China) OR Bundesbank OR (Bank of France) OR (Bank of Italy))\"\"\""
   ]
  },
  {
   "cell_type": "code",
   "execution_count": 11,
   "id": "39dfc7c2",
   "metadata": {},
   "outputs": [],
   "source": [
    "driver.find_element(By.XPATH,'//*[@id=\"select_multiDateRange\"]/option[10]').click()\n",
    "# Start\n",
    "driver.find_element(By.XPATH,'//*[@id=\"month2\"]/option[2]').click()\n",
    "driver.find_element(By.XPATH,'//*[@id=\"day2\"]/option[2]').click()\n",
    "driver.find_element(By.XPATH,'//*[@id=\"year2\"]').send_keys('2000')\n",
    "# End\n",
    "driver.find_element(By.XPATH,'//*[@id=\"month2_0\"]/option[13]').click()\n",
    "driver.find_element(By.XPATH,'//*[@id=\"day2_0\"]/option[32]').click()\n",
    "driver.find_element(By.XPATH,'//*[@id=\"year2_0\"]').send_keys('2021')"
   ]
  },
  {
   "cell_type": "code",
   "execution_count": 12,
   "id": "8dec32c0",
   "metadata": {},
   "outputs": [],
   "source": [
    "driver.find_element(By.XPATH,'//*[@id=\"SourceType_Newspapers\"]').click()\n",
    "driver.find_element(By.XPATH,'//*[@id=\"Language_ENG\"]').click()"
   ]
  },
  {
   "cell_type": "code",
   "execution_count": 13,
   "id": "5f22e1be",
   "metadata": {},
   "outputs": [],
   "source": [
    "driver.find_element(By.XPATH, '//*[@id=\"queryTermField\"]').send_keys(keys)"
   ]
  },
  {
   "cell_type": "code",
   "execution_count": 14,
   "id": "1723d1a9",
   "metadata": {},
   "outputs": [],
   "source": [
    "driver.find_element(By.XPATH, '//*[@id=\"sortType\"]/option[2]').click() # oldest first"
   ]
  },
  {
   "cell_type": "code",
   "execution_count": 15,
   "id": "a35e7c8d",
   "metadata": {},
   "outputs": [],
   "source": [
    "#driver.implicitly_wait(10)\n",
    "#driver.find_element(By.XPATH, '//*[@id=\"itemsPerPage\"]/option[4]').click()"
   ]
  },
  {
   "cell_type": "code",
   "execution_count": 16,
   "id": "3585544d",
   "metadata": {},
   "outputs": [],
   "source": [
    "dataset = []\n",
    "pattern_date = '[0-9]{1,2}\\s[A-Za-z]{3,5}\\s[0-9]{4}'"
   ]
  },
  {
   "cell_type": "code",
   "execution_count": null,
   "id": "b79b951e",
   "metadata": {},
   "outputs": [],
   "source": [
    "num_pages_visited = 0\n",
    "\n",
    "while True:\n",
    "    \n",
    "    articles = driver.find_elements(By.CLASS_NAME, 'resultItem')\n",
    "    num_articles_scraped = 0 # per page\n",
    "    for article in articles:\n",
    "        title = article.find_element(By.XPATH, './/*[@id=\"citationDocTitleLink\"]').get_attribute(\"title\")\n",
    "        try:\n",
    "            date_text = article.find_element(By.CLASS_NAME,'newspaperArticle').text\n",
    "            date = re.search(pattern_date, date_text).group()\n",
    "        except:\n",
    "            date = np.nan\n",
    "    \n",
    "        link = article.find_element(By.XPATH, './/*[@id=\"citationDocTitleLink\"]').get_attribute(\"href\")\n",
    "        \n",
    "        driver_temp = webdriver.Chrome(options = opts)\n",
    "        driver_temp.implicitly_wait(10)\n",
    "        driver_temp.get(link)\n",
    "    \n",
    "        try:\n",
    "            full_text = driver_temp.find_element(By.XPATH, '//*[@id=\"fullTextZone\"]/text').text\n",
    "        except NoSuchElementException:\n",
    "            full_text = np.nan\n",
    "\n",
    "        try:\n",
    "            abstract = driver_temp.find_element(By.CLASS_NAME,'abstract').text\n",
    "        except NoSuchElementException:\n",
    "            abstract = np.nan\n",
    "        \n",
    "    \n",
    "        article_info = {'date': date, 'title': title, \"abstract\": abstract, 'full_text': full_text}\n",
    "        dataset.append(article_info)\n",
    "        \n",
    "        num_articles_scraped += 1\n",
    "        print(f\"Number of scraped articles per page: {num_articles_scraped}\")\n",
    "        driver_temp.close()\n",
    "        time.sleep(random.uniform(5, 15))\n",
    "    \n",
    "    print(\"\\n\")\n",
    "    try:\n",
    "        num_pages_visited += 1\n",
    "        print(f\"Number of scraped pages: {num_pages_visited}\\n\")\n",
    "        driver.find_element(By.CSS_SELECTOR, \"[title^='Next Page']\").click()\n",
    "        time.sleep(random.uniform(10, 20))\n",
    "    except NoSuchElementException:\n",
    "        break\n",
    "        \n",
    "driver.quit()\n",
    "df = pd.DataFrame(dataset)"
   ]
  },
  {
   "cell_type": "code",
   "execution_count": 18,
   "id": "62d3f283",
   "metadata": {},
   "outputs": [],
   "source": [
    "df = pd.DataFrame(dataset)"
   ]
  },
  {
   "cell_type": "code",
   "execution_count": null,
   "id": "45e6473e",
   "metadata": {},
   "outputs": [],
   "source": [
    "df"
   ]
  },
  {
   "cell_type": "code",
   "execution_count": 20,
   "id": "6df19758",
   "metadata": {},
   "outputs": [],
   "source": [
    "#df.to_csv(\"news_data.csv\", index = False)"
   ]
  }
 ],
 "metadata": {
  "kernelspec": {
   "display_name": "Python 3",
   "language": "python",
   "name": "python3"
  },
  "language_info": {
   "codemirror_mode": {
    "name": "ipython",
    "version": 3
   },
   "file_extension": ".py",
   "mimetype": "text/x-python",
   "name": "python",
   "nbconvert_exporter": "python",
   "pygments_lexer": "ipython3",
   "version": "3.8.8"
  }
 },
 "nbformat": 4,
 "nbformat_minor": 5
}
