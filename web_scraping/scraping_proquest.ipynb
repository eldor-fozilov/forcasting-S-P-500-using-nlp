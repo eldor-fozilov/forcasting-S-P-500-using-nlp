{
 "cells": [
  {
   "cell_type": "code",
   "execution_count": 1,
   "id": "dafd5c8b",
   "metadata": {},
   "outputs": [],
   "source": [
    "from selenium import webdriver\n",
    "from selenium.webdriver.common.by import By\n",
    "from selenium.common.exceptions import NoSuchElementException\n",
    "import re\n",
    "import time"
   ]
  },
  {
   "cell_type": "code",
   "execution_count": 2,
   "id": "9780b85a",
   "metadata": {},
   "outputs": [],
   "source": [
    "import pandas as pd\n",
    "import numpy as np"
   ]
  },
  {
   "cell_type": "code",
   "execution_count": 3,
   "id": "c5d8dc2d",
   "metadata": {},
   "outputs": [],
   "source": [
    "opts = webdriver.ChromeOptions()\n",
    "opts.headless =True"
   ]
  },
  {
   "cell_type": "code",
   "execution_count": 4,
   "id": "838497bf",
   "metadata": {},
   "outputs": [],
   "source": [
    "path_link = \"C:/Users/Sky/.wdm/drivers/chromedriver/win32/101.0.4951.41/chromedriver.exe\""
   ]
  },
  {
   "cell_type": "code",
   "execution_count": 5,
   "id": "a22df6ae",
   "metadata": {
    "scrolled": true
   },
   "outputs": [
    {
     "name": "stderr",
     "output_type": "stream",
     "text": [
      "<ipython-input-5-143182bab761>:1: DeprecationWarning: executable_path has been deprecated, please pass in a Service object\n",
      "  driver = webdriver.Chrome(executable_path = path_link)\n"
     ]
    }
   ],
   "source": [
    "driver = webdriver.Chrome(executable_path = path_link, options = opts)\n",
    "driver.implicitly_wait(10)"
   ]
  },
  {
   "cell_type": "code",
   "execution_count": 6,
   "id": "25270442",
   "metadata": {},
   "outputs": [],
   "source": [
    "search_url = \"https://www.proquest.com/washingtonpost?accountid=29989\"\n",
    "driver.get(search_url)\n"
   ]
  },
  {
   "cell_type": "code",
   "execution_count": 7,
   "id": "f20d99d8",
   "metadata": {},
   "outputs": [],
   "source": [
    "driver.find_element(By.XPATH, '//*[@id=\"product-level-nav\"]/li[2]').click()"
   ]
  },
  {
   "cell_type": "code",
   "execution_count": 8,
   "id": "a208b335",
   "metadata": {},
   "outputs": [],
   "source": [
    "keys = \"\"\"((federal reserve) OR (fed)) AND((money supply) OR (open market operations) OR\n",
    "(quantitative easing) OR (monetary policy) OR (fed funds rate) OR (overnight lending rate) OR\n",
    "Bernanke OR Volker OR Greenspan OR Yellen OR Powell OR (central bank) OR (interest rates) OR (fed chairman) OR\n",
    "(fed chair) OR (lender of last resort) OR (discount window) OR (European Central Bank) OR ECB OR (Bank of England) OR\n",
    "(Bank of Japan) OR BOJ OR (Bank of China) OR Bundesbank OR (Bank of France) OR (Bank of Italy))\"\"\""
   ]
  },
  {
   "cell_type": "code",
   "execution_count": 10,
   "id": "39dfc7c2",
   "metadata": {},
   "outputs": [],
   "source": [
    "driver.find_element(By.XPATH,'//*[@id=\"select_multiDateRange\"]/option[10]').click()\n",
    "# Start\n",
    "driver.find_element(By.XPATH,'//*[@id=\"month2\"]/option[2]').click()\n",
    "driver.find_element(By.XPATH,'//*[@id=\"day2\"]/option[2]').click()\n",
    "driver.find_element(By.XPATH,'//*[@id=\"year2\"]').send_keys('2000')\n",
    "# End\n",
    "driver.find_element(By.XPATH,'//*[@id=\"month2_0\"]/option[13]').click()\n",
    "driver.find_element(By.XPATH,'//*[@id=\"day2_0\"]/option[32]').click()\n",
    "driver.find_element(By.XPATH,'//*[@id=\"year2_0\"]').send_keys('2021')"
   ]
  },
  {
   "cell_type": "code",
   "execution_count": 11,
   "id": "8dec32c0",
   "metadata": {},
   "outputs": [],
   "source": [
    "driver.find_element(By.XPATH,'//*[@id=\"SourceType_Newspapers\"]').click()\n",
    "driver.find_element(By.XPATH,'//*[@id=\"Language_ENG\"]').click()"
   ]
  },
  {
   "cell_type": "code",
   "execution_count": 12,
   "id": "5f22e1be",
   "metadata": {},
   "outputs": [],
   "source": [
    "driver.find_element(By.XPATH, '//*[@id=\"queryTermField\"]').send_keys(keys)"
   ]
  },
  {
   "cell_type": "code",
   "execution_count": 13,
   "id": "3fd29f55",
   "metadata": {},
   "outputs": [],
   "source": [
    "driver.find_element(By.XPATH, '//*[@id=\"sortType\"]/option[2]').click() # oldest first"
   ]
  },
  {
   "cell_type": "code",
   "execution_count": 12,
   "id": "a35e7c8d",
   "metadata": {},
   "outputs": [],
   "source": [
    "driver.find_element(By.XPATH, '//*[@id=\"itemsPerPage\"]/option[4]').click()"
   ]
  },
  {
   "cell_type": "code",
   "execution_count": 14,
   "id": "b79b951e",
   "metadata": {},
   "outputs": [
    {
     "name": "stderr",
     "output_type": "stream",
     "text": [
      "<ipython-input-14-327709cc25a4>:15: DeprecationWarning: executable_path has been deprecated, please pass in a Service object\n",
      "  driver_temp = webdriver.Chrome(executable_path = path_link, options = opts)\n"
     ]
    }
   ],
   "source": [
    "dataset = []\n",
    "pattern_date = '[0-9]{1,2}\\s[A-Za-z]{3,5}\\s[0-9]{4}'\n",
    "\n",
    "while True:\n",
    "    articles = driver.find_elements(By.CLASS_NAME, 'resultItem')\n",
    "\n",
    "    for article in articles:\n",
    "        title = article.find_element(By.XPATH, './/*[@id=\"citationDocTitleLink\"]').get_attribute(\"title\")\n",
    "        date = article.find_element(By.CLASS_NAME,'newspaperArticle').text\n",
    "        date = re.search(pattern_date, date).group()\n",
    "    \n",
    "        link = article.find_element(By.XPATH, './/*[@id=\"citationDocTitleLink\"]').get_attribute(\"href\")\n",
    "    \n",
    "        driver_temp = webdriver.Chrome(executable_path = path_link, options = opts)\n",
    "        driver_temp.implicitly_wait(10)\n",
    "        driver_temp.get(link)\n",
    "    \n",
    "        try:\n",
    "            full_text = driver_temp.find_element(By.XPATH, '//*[@id=\"fullTextZone\"]/text').text\n",
    "        except NoSuchElementException:\n",
    "            full_text = np.nan\n",
    "\n",
    "        try:\n",
    "            abstract = driver_temp.find_element(By.CLASS_NAME,'abstract').text\n",
    "        except NoSuchElementException:\n",
    "            abstract = np.nan\n",
    "        \n",
    "    \n",
    "        article_info = {'date': date, 'title': title, \"abstract\": abstract, 'full_text': full_text}\n",
    "        dataset.append(article_info)\n",
    "    \n",
    "        driver_temp.close()\n",
    "        \n",
    "    try:\n",
    "        driver.find_element(By.CSS_SELECTOR, \"[title^='Next Page']\").click()\n",
    "        time.sleep(5)\n",
    "    except NoSuchElementException:\n",
    "        break\n",
    "\n",
    "driver.quit()\n",
    "df = pd.DataFrame(dataset)"
   ]
  },
  {
   "cell_type": "markdown",
   "id": "df6f9d05",
   "metadata": {},
   "source": [
    "df"
   ]
  },
  {
   "cell_type": "code",
   "execution_count": 15,
   "id": "b9151484",
   "metadata": {},
   "outputs": [
    {
     "data": {
      "text/html": [
       "<div>\n",
       "<style scoped>\n",
       "    .dataframe tbody tr th:only-of-type {\n",
       "        vertical-align: middle;\n",
       "    }\n",
       "\n",
       "    .dataframe tbody tr th {\n",
       "        vertical-align: top;\n",
       "    }\n",
       "\n",
       "    .dataframe thead th {\n",
       "        text-align: right;\n",
       "    }\n",
       "</style>\n",
       "<table border=\"1\" class=\"dataframe\">\n",
       "  <thead>\n",
       "    <tr style=\"text-align: right;\">\n",
       "      <th></th>\n",
       "      <th>date</th>\n",
       "      <th>title</th>\n",
       "      <th>abstract</th>\n",
       "      <th>full_text</th>\n",
       "    </tr>\n",
       "  </thead>\n",
       "  <tbody>\n",
       "    <tr>\n",
       "      <th>0</th>\n",
       "      <td>01 Jan 2000</td>\n",
       "      <td>The Clintons Host A Historic Fete; A Repast fo...</td>\n",
       "      <td>Muhammad Ali, Elizabeth Taylor, Sophia Loren, ...</td>\n",
       "      <td>It was a once-in-a lifetime invitation--greeti...</td>\n",
       "    </tr>\n",
       "    <tr>\n",
       "      <th>1</th>\n",
       "      <td>01 Jan 2000</td>\n",
       "      <td>Bonds' Bad Year Closes With Whimper: [FINAL Ed...</td>\n",
       "      <td>\"Treasuries are still falling this morning, ta...</td>\n",
       "      <td>While tech stocks boomed and most major equity...</td>\n",
       "    </tr>\n",
       "    <tr>\n",
       "      <th>2</th>\n",
       "      <td>01 Jan 2000</td>\n",
       "      <td>Technology-Led Market Keeps Up Momentum: [FINA...</td>\n",
       "      <td>The year's star was the tech-laden Nasdaq comp...</td>\n",
       "      <td>Stocks ended the year on an up note, capping t...</td>\n",
       "    </tr>\n",
       "    <tr>\n",
       "      <th>3</th>\n",
       "      <td>01 Jan 2000</td>\n",
       "      <td>100 Lives; This Is Who We Were.: [FINAL Edition]</td>\n",
       "      <td>My name is Larissa Kosmos. I'm 28. I'm blessed...</td>\n",
       "      <td>My name is Larissa Kosmos. I'm 28. I'm blessed...</td>\n",
       "    </tr>\n",
       "    <tr>\n",
       "      <th>4</th>\n",
       "      <td>02 Jan 2000</td>\n",
       "      <td>D.C. Homicides Lowest Since 1987; Killings in ...</td>\n",
       "      <td>Correction: An article Sunday incorrectly repo...</td>\n",
       "      <td>Correction: An article Sunday incorrectly repo...</td>\n",
       "    </tr>\n",
       "  </tbody>\n",
       "</table>\n",
       "</div>"
      ],
      "text/plain": [
       "          date                                              title  \\\n",
       "0  01 Jan 2000  The Clintons Host A Historic Fete; A Repast fo...   \n",
       "1  01 Jan 2000  Bonds' Bad Year Closes With Whimper: [FINAL Ed...   \n",
       "2  01 Jan 2000  Technology-Led Market Keeps Up Momentum: [FINA...   \n",
       "3  01 Jan 2000   100 Lives; This Is Who We Were.: [FINAL Edition]   \n",
       "4  02 Jan 2000  D.C. Homicides Lowest Since 1987; Killings in ...   \n",
       "\n",
       "                                            abstract  \\\n",
       "0  Muhammad Ali, Elizabeth Taylor, Sophia Loren, ...   \n",
       "1  \"Treasuries are still falling this morning, ta...   \n",
       "2  The year's star was the tech-laden Nasdaq comp...   \n",
       "3  My name is Larissa Kosmos. I'm 28. I'm blessed...   \n",
       "4  Correction: An article Sunday incorrectly repo...   \n",
       "\n",
       "                                           full_text  \n",
       "0  It was a once-in-a lifetime invitation--greeti...  \n",
       "1  While tech stocks boomed and most major equity...  \n",
       "2  Stocks ended the year on an up note, capping t...  \n",
       "3  My name is Larissa Kosmos. I'm 28. I'm blessed...  \n",
       "4  Correction: An article Sunday incorrectly repo...  "
      ]
     },
     "execution_count": 15,
     "metadata": {},
     "output_type": "execute_result"
    }
   ],
   "source": [
    "df.head()"
   ]
  },
  {
   "cell_type": "code",
   "execution_count": 16,
   "id": "4e3dcf93",
   "metadata": {},
   "outputs": [],
   "source": [
    "#df.to_csv(\"news_data.csv\", index = False)"
   ]
  }
 ],
 "metadata": {
  "kernelspec": {
   "display_name": "Python 3",
   "language": "python",
   "name": "python3"
  },
  "language_info": {
   "codemirror_mode": {
    "name": "ipython",
    "version": 3
   },
   "file_extension": ".py",
   "mimetype": "text/x-python",
   "name": "python",
   "nbconvert_exporter": "python",
   "pygments_lexer": "ipython3",
   "version": "3.8.8"
  }
 },
 "nbformat": 4,
 "nbformat_minor": 5
}
