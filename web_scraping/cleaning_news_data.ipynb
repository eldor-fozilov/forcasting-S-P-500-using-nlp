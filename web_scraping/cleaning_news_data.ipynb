{
 "cells": [
  {
   "cell_type": "code",
   "execution_count": 2,
   "id": "dafd5c8b",
   "metadata": {},
   "outputs": [],
   "source": [
    "from selenium import webdriver\n",
    "from selenium.webdriver.common.by import By\n",
    "import chromedriver_autoinstaller\n",
    "from selenium.common.exceptions import NoSuchElementException\n",
    "from selenium.webdriver.support.ui import WebDriverWait\n",
    "from selenium.webdriver.support import expected_conditions as EC\n",
    "import re\n",
    "import time"
   ]
  },
  {
   "cell_type": "code",
   "execution_count": 2,
   "id": "9780b85a",
   "metadata": {},
   "outputs": [],
   "source": [
    "import pandas as pd\n",
    "import numpy as np"
   ]
  },
  {
   "cell_type": "code",
   "execution_count": 4,
   "id": "94cf8a3b",
   "metadata": {},
   "outputs": [],
   "source": [
    "import requests\n",
    "import random"
   ]
  },
  {
   "cell_type": "code",
   "execution_count": null,
   "id": "642b293b",
   "metadata": {},
   "outputs": [],
   "source": [
    "df = pd.read_csv(\"news_df.csv\")"
   ]
  },
  {
   "cell_type": "code",
   "execution_count": null,
   "id": "12a16ed6",
   "metadata": {},
   "outputs": [],
   "source": [
    "df"
   ]
  },
  {
   "cell_type": "code",
   "execution_count": null,
   "id": "3b03af6f",
   "metadata": {},
   "outputs": [],
   "source": [
    "df_nan = df[df.full_text.isnull() == True]"
   ]
  },
  {
   "cell_type": "code",
   "execution_count": null,
   "id": "a720183d",
   "metadata": {},
   "outputs": [],
   "source": [
    "opts = webdriver.ChromeOptions()\n",
    "opts.headless =True"
   ]
  },
  {
   "cell_type": "code",
   "execution_count": null,
   "id": "a22df6ae",
   "metadata": {
    "scrolled": true
   },
   "outputs": [],
   "source": [
    "chromedriver_autoinstaller.install()\n",
    "driver = webdriver.Chrome()\n",
    "driver.implicitly_wait(10)"
   ]
  },
  {
   "cell_type": "code",
   "execution_count": null,
   "id": "25270442",
   "metadata": {},
   "outputs": [],
   "source": [
    "search_url = \"https://www.proquest.com/washingtonpost\"\n",
    "driver.get(search_url)\n"
   ]
  },
  {
   "cell_type": "code",
   "execution_count": null,
   "id": "29889a38",
   "metadata": {},
   "outputs": [],
   "source": [
    "driver.find_element(By.XPATH, '//*[@id=\"product-level-nav\"]/li[2]').click()"
   ]
  },
  {
   "cell_type": "code",
   "execution_count": null,
   "id": "c9b64ffe",
   "metadata": {},
   "outputs": [],
   "source": [
    "dataset = []\n",
    "num_articles_scraped = 0\n",
    "pattern_date = '[0-9]{1,2}\\s[A-Za-z]{3,5}\\s[0-9]{4}'"
   ]
  },
  {
   "cell_type": "code",
   "execution_count": null,
   "id": "b79b951e",
   "metadata": {
    "scrolled": true
   },
   "outputs": [],
   "source": [
    "def extract_articles(url, keys, dataset):\n",
    "    time.sleep(5)\n",
    "    driver_temp = webdriver.Chrome(options = opts)\n",
    "    driver_temp.implicitly_wait(10)\n",
    "\n",
    "    articles = driver.find_elements(By.CLASS_NAME, 'resultItem')\n",
    "    driver_temp.get(url)\n",
    "    \n",
    "    if len(articles) == 0:\n",
    "        print(\"Could not find the article with the title:\\n\" + keys + \"\\n\")\n",
    "        return None\n",
    "    \n",
    "    for article in articles:\n",
    "\n",
    "        title = article.find_element(By.XPATH, './/*[@id=\"citationDocTitleLink\"]').get_attribute(\"title\")\n",
    "        if keys != title:\n",
    "            break\n",
    "        date_text = article.find_element(By.CLASS_NAME,'newspaperArticle').text\n",
    "        date = re.search(pattern_date, date_text).group()\n",
    "\n",
    "        link = article.find_element(By.XPATH, './/*[@id=\"citationDocTitleLink\"]').get_attribute(\"href\")\n",
    "\n",
    "\n",
    "        driver_temp.execute_script(\"window.open('');\")\n",
    "        driver_temp.switch_to.window(driver_temp.window_handles[1])\n",
    "        driver_temp.get(link)\n",
    "\n",
    "        try:\n",
    "            WebDriverWait(driver_temp, 5).until(\n",
    "                EC.presence_of_element_located((By.XPATH, '//*[@id=\"fullTextZone\"]/text'))\n",
    "            )\n",
    "            full_text = driver_temp.find_element(By.XPATH, '//*[@id=\"fullTextZone\"]/text').text\n",
    "        except:\n",
    "            full_text = np.nan\n",
    "\n",
    "        try:\n",
    "            abstract = driver_temp.find_element(By.CLASS_NAME,'abstract').text\n",
    "        except NoSuchElementException:\n",
    "            abstract = np.nan\n",
    "\n",
    "\n",
    "        article_info = {'date': date, 'title': title, \"abstract\": abstract, 'full_text': full_text}\n",
    "        dataset.append(article_info)\n",
    "        global num_articles_scraped\n",
    "        num_articles_scraped += 1\n",
    "        print(f\"Number of scraped articles: {num_articles_scraped}\")\n",
    "        driver_temp.close()\n",
    "        driver_temp.switch_to.window(driver_temp.window_handles[0])\n",
    "        time.sleep(random.uniform(5, 10))\n",
    "\n",
    "    driver_temp.quit()\n"
   ]
  },
  {
   "cell_type": "code",
   "execution_count": null,
   "id": "078aad54",
   "metadata": {},
   "outputs": [],
   "source": [
    "months = {\"Jan\": 1, \"Feb\": 2, \"Mar\": 3, \"Apr\":4,\"May\":5,\"June\":6,\n",
    "          \"July\":7,\"Aug\":8,\"Sep\":9,\"Oct\":10,\"Nov\":11,\"Dec\":12}\n",
    "\n",
    "\n",
    "for index in range(len(df_nan)):\n",
    "    s = df_nan.date.iloc[index].split(\" \")\n",
    "    day = int(s[0])\n",
    "    month = months[s[1]]\n",
    "    year = s[2]\n",
    "    \n",
    "    driver.find_element(By.XPATH,'//*[@id=\"select_multiDateRange\"]/option[7]').click()\n",
    "    driver.find_element(By.XPATH,f'//*[@id=\"month2\"]/option[{month + 1}]').click()\n",
    "    driver.find_element(By.XPATH,f'//*[@id=\"day2\"]/option[{day + 1}]').click()\n",
    "    driver.find_element(By.XPATH,'//*[@id=\"year2\"]').clear()\n",
    "    driver.find_element(By.XPATH,'//*[@id=\"year2\"]').send_keys(year)\n",
    "    \n",
    "    driver.find_element(By.XPATH,'//*[@id=\"SourceType_Newspapers\"]').click()\n",
    "    driver.find_element(By.XPATH,'//*[@id=\"Language_ENG\"]').click()\n",
    "    \n",
    "    keys = df_nan.title.iloc[index]\n",
    "    driver.find_element(By.XPATH, '//*[@id=\"queryTermField\"]').clear()\n",
    "    driver.find_element(By.XPATH, '//*[@id=\"queryTermField\"]').send_keys(keys)\n",
    "    driver.find_element(By.XPATH, '//*[@id=\"searchToResultPage\"]').click()\n",
    "    \n",
    "    extract_articles(driver.current_url, keys ,dataset)\n",
    "    driver.back()\n",
    "    time.sleep(5)\n",
    "    \n",
    "df_nan_scraped = pd.DataFrame(dataset)\n",
    "driver.quit()\n",
    "    "
   ]
  },
  {
   "cell_type": "code",
   "execution_count": null,
   "id": "df5f76f7",
   "metadata": {},
   "outputs": [],
   "source": [
    "#df_nan_scraped.to_csv(\"news_data_scraped_nan.csv\", index = False)"
   ]
  },
  {
   "cell_type": "code",
   "execution_count": null,
   "id": "2fc820bf",
   "metadata": {},
   "outputs": [],
   "source": []
  },
  {
   "cell_type": "code",
   "execution_count": null,
   "id": "1f8768ac",
   "metadata": {},
   "outputs": [],
   "source": [
    "df_nan_temp = df[df.full_text.isnull() == True]"
   ]
  },
  {
   "cell_type": "code",
   "execution_count": null,
   "id": "e069843b",
   "metadata": {},
   "outputs": [],
   "source": [
    "index_list = df_nan_temp.index"
   ]
  },
  {
   "cell_type": "code",
   "execution_count": null,
   "id": "c7d0fc09",
   "metadata": {},
   "outputs": [],
   "source": [
    "for index in index_list:\n",
    "    date = df.loc[index, 'date']\n",
    "    title = df.loc[index, 'title']\n",
    "    \n",
    "    temp_index = (df_nan_scraped.title == title) & (df_nan_scraped.date == date)\n",
    "    \n",
    "    full_text = df_nan_scraped.full_text[temp_index]\n",
    "    abstract = df_nan_scraped.abstract[temp_index]\n",
    "    \n",
    "    if len(abstract) != 0:\n",
    "        df.loc[index, 'abstract'] = abstract.iloc[0]\n",
    "        \n",
    "    if len(full_text) != 0:\n",
    "         df.loc[index, 'full_text'] = full_text.iloc[0]\n"
   ]
  },
  {
   "cell_type": "code",
   "execution_count": null,
   "id": "fc7c6567",
   "metadata": {},
   "outputs": [],
   "source": [
    "df_nan_temp = df[df.full_text.isnull() == True]"
   ]
  },
  {
   "cell_type": "code",
   "execution_count": null,
   "id": "b7d61031",
   "metadata": {},
   "outputs": [],
   "source": [
    "df_nan_temp"
   ]
  },
  {
   "cell_type": "code",
   "execution_count": null,
   "id": "bb6b0a22",
   "metadata": {},
   "outputs": [],
   "source": [
    "df.drop(df_nan_temp.index, axis = 0, inplace = True)"
   ]
  },
  {
   "cell_type": "code",
   "execution_count": null,
   "id": "83a0c67f",
   "metadata": {},
   "outputs": [],
   "source": [
    "#df.to_csv(\"cleaned_news_data.csv\", index = False)"
   ]
  },
  {
   "cell_type": "code",
   "execution_count": null,
   "id": "d5cc08cb",
   "metadata": {},
   "outputs": [],
   "source": []
  },
  {
   "cell_type": "code",
   "execution_count": 88,
   "id": "21dd4c13",
   "metadata": {},
   "outputs": [],
   "source": [
    "df_cleaned = pd.read_csv(\"cleaned_news_data.csv\")"
   ]
  },
  {
   "cell_type": "code",
   "execution_count": 90,
   "id": "2262202b",
   "metadata": {},
   "outputs": [],
   "source": [
    "df_cleaned.drop_duplicates(inplace = True, ignore_index = True)"
   ]
  },
  {
   "cell_type": "code",
   "execution_count": 91,
   "id": "7416e21e",
   "metadata": {},
   "outputs": [
    {
     "data": {
      "text/html": [
       "<div>\n",
       "<style scoped>\n",
       "    .dataframe tbody tr th:only-of-type {\n",
       "        vertical-align: middle;\n",
       "    }\n",
       "\n",
       "    .dataframe tbody tr th {\n",
       "        vertical-align: top;\n",
       "    }\n",
       "\n",
       "    .dataframe thead th {\n",
       "        text-align: right;\n",
       "    }\n",
       "</style>\n",
       "<table border=\"1\" class=\"dataframe\">\n",
       "  <thead>\n",
       "    <tr style=\"text-align: right;\">\n",
       "      <th></th>\n",
       "      <th>date</th>\n",
       "      <th>title</th>\n",
       "      <th>abstract</th>\n",
       "      <th>full_text</th>\n",
       "    </tr>\n",
       "  </thead>\n",
       "  <tbody>\n",
       "    <tr>\n",
       "      <th>0</th>\n",
       "      <td>01 Jan 2000</td>\n",
       "      <td>The Clintons Host A Historic Fete; A Repast fo...</td>\n",
       "      <td>Muhammad Ali, Elizabeth Taylor, Sophia Loren, ...</td>\n",
       "      <td>It was a once-in-a lifetime invitation--greeti...</td>\n",
       "    </tr>\n",
       "    <tr>\n",
       "      <th>1</th>\n",
       "      <td>01 Jan 2000</td>\n",
       "      <td>Bonds' Bad Year Closes With Whimper: [FINAL Ed...</td>\n",
       "      <td>\"Treasuries are still falling this morning, ta...</td>\n",
       "      <td>While tech stocks boomed and most major equity...</td>\n",
       "    </tr>\n",
       "    <tr>\n",
       "      <th>2</th>\n",
       "      <td>01 Jan 2000</td>\n",
       "      <td>Technology-Led Market Keeps Up Momentum: [FINA...</td>\n",
       "      <td>The year's star was the tech-laden Nasdaq comp...</td>\n",
       "      <td>Stocks ended the year on an up note, capping t...</td>\n",
       "    </tr>\n",
       "    <tr>\n",
       "      <th>3</th>\n",
       "      <td>01 Jan 2000</td>\n",
       "      <td>100 Lives; This Is Who We Were.: [FINAL Edition]</td>\n",
       "      <td>My name is Larissa Kosmos. I'm 28. I'm blessed...</td>\n",
       "      <td>My name is Larissa Kosmos. I'm 28. I'm blessed...</td>\n",
       "    </tr>\n",
       "    <tr>\n",
       "      <th>4</th>\n",
       "      <td>02 Jan 2000</td>\n",
       "      <td>D.C. Homicides Lowest Since 1987; Killings in ...</td>\n",
       "      <td>Correction: An article Sunday incorrectly repo...</td>\n",
       "      <td>Correction: An article Sunday incorrectly repo...</td>\n",
       "    </tr>\n",
       "    <tr>\n",
       "      <th>...</th>\n",
       "      <td>...</td>\n",
       "      <td>...</td>\n",
       "      <td>...</td>\n",
       "      <td>...</td>\n",
       "    </tr>\n",
       "    <tr>\n",
       "      <th>17192</th>\n",
       "      <td>26 Dec 2021</td>\n",
       "      <td>2020 was the craziest, creepiest year - until ...</td>\n",
       "      <td>NaN</td>\n",
       "      <td>This is the craziest, creepiest year in both t...</td>\n",
       "    </tr>\n",
       "    <tr>\n",
       "      <th>17193</th>\n",
       "      <td>26 Dec 2021</td>\n",
       "      <td>Portraits from inside the messy, overheating a...</td>\n",
       "      <td>NaN</td>\n",
       "      <td>The U.S. economy this year was strong and scar...</td>\n",
       "    </tr>\n",
       "    <tr>\n",
       "      <th>17194</th>\n",
       "      <td>26 Dec 2021</td>\n",
       "      <td>Economy of 2021: Wild ride leaves few safe gue...</td>\n",
       "      <td>NaN</td>\n",
       "      <td>Now, the climate is shifting again. In 2022, t...</td>\n",
       "    </tr>\n",
       "    <tr>\n",
       "      <th>17195</th>\n",
       "      <td>30 Dec 2021</td>\n",
       "      <td>Continuing inflation set to be a top issue in ...</td>\n",
       "      <td>NaN</td>\n",
       "      <td>Little relief expected as prices rise at faste...</td>\n",
       "    </tr>\n",
       "    <tr>\n",
       "      <th>17196</th>\n",
       "      <td>31 Dec 2021</td>\n",
       "      <td>A trek that highlights colors of the city</td>\n",
       "      <td>NaN</td>\n",
       "      <td>If I'm going to get coffee, I'm definitely tak...</td>\n",
       "    </tr>\n",
       "  </tbody>\n",
       "</table>\n",
       "<p>17197 rows × 4 columns</p>\n",
       "</div>"
      ],
      "text/plain": [
       "              date                                              title  \\\n",
       "0      01 Jan 2000  The Clintons Host A Historic Fete; A Repast fo...   \n",
       "1      01 Jan 2000  Bonds' Bad Year Closes With Whimper: [FINAL Ed...   \n",
       "2      01 Jan 2000  Technology-Led Market Keeps Up Momentum: [FINA...   \n",
       "3      01 Jan 2000   100 Lives; This Is Who We Were.: [FINAL Edition]   \n",
       "4      02 Jan 2000  D.C. Homicides Lowest Since 1987; Killings in ...   \n",
       "...            ...                                                ...   \n",
       "17192  26 Dec 2021  2020 was the craziest, creepiest year - until ...   \n",
       "17193  26 Dec 2021  Portraits from inside the messy, overheating a...   \n",
       "17194  26 Dec 2021  Economy of 2021: Wild ride leaves few safe gue...   \n",
       "17195  30 Dec 2021  Continuing inflation set to be a top issue in ...   \n",
       "17196  31 Dec 2021          A trek that highlights colors of the city   \n",
       "\n",
       "                                                abstract  \\\n",
       "0      Muhammad Ali, Elizabeth Taylor, Sophia Loren, ...   \n",
       "1      \"Treasuries are still falling this morning, ta...   \n",
       "2      The year's star was the tech-laden Nasdaq comp...   \n",
       "3      My name is Larissa Kosmos. I'm 28. I'm blessed...   \n",
       "4      Correction: An article Sunday incorrectly repo...   \n",
       "...                                                  ...   \n",
       "17192                                                NaN   \n",
       "17193                                                NaN   \n",
       "17194                                                NaN   \n",
       "17195                                                NaN   \n",
       "17196                                                NaN   \n",
       "\n",
       "                                               full_text  \n",
       "0      It was a once-in-a lifetime invitation--greeti...  \n",
       "1      While tech stocks boomed and most major equity...  \n",
       "2      Stocks ended the year on an up note, capping t...  \n",
       "3      My name is Larissa Kosmos. I'm 28. I'm blessed...  \n",
       "4      Correction: An article Sunday incorrectly repo...  \n",
       "...                                                  ...  \n",
       "17192  This is the craziest, creepiest year in both t...  \n",
       "17193  The U.S. economy this year was strong and scar...  \n",
       "17194  Now, the climate is shifting again. In 2022, t...  \n",
       "17195  Little relief expected as prices rise at faste...  \n",
       "17196  If I'm going to get coffee, I'm definitely tak...  \n",
       "\n",
       "[17197 rows x 4 columns]"
      ]
     },
     "execution_count": 91,
     "metadata": {},
     "output_type": "execute_result"
    }
   ],
   "source": [
    "df_cleaned"
   ]
  },
  {
   "cell_type": "code",
   "execution_count": 92,
   "id": "e34417b3",
   "metadata": {},
   "outputs": [],
   "source": [
    "keys_F = ['federal reserve', ' fed ']\n",
    "keys_M = ['money supply', 'open market operations',\n",
    "'quantitative easing', 'monetary policy', 'fed funds rate', 'overnight lending rate',\n",
    "' Bernanke ', ' Volker ', ' Greenspan ', ' Yellen ', ' Powell ', 'central bank', 'interest rates', 'fed chairman',\n",
    "'fed chair', 'lender of last resort', 'discount window', 'European Central Bank',' ECB ', 'Bank of England',\n",
    "'Bank of Japan',' BOJ ', 'Bank of China', 'Bundesbank', 'Bank of France', 'Bank of Italy']"
   ]
  },
  {
   "cell_type": "code",
   "execution_count": 93,
   "id": "08207d45",
   "metadata": {},
   "outputs": [],
   "source": [
    "dataset = []"
   ]
  },
  {
   "cell_type": "code",
   "execution_count": 94,
   "id": "a3870246",
   "metadata": {},
   "outputs": [],
   "source": [
    "for index in range(len(df_cleaned)):\n",
    "    \n",
    "    full_text = df_cleaned.full_text[index].lower()\n",
    "    condition_satisfied = False\n",
    "    \n",
    "    for key_F in keys_F:\n",
    "        \n",
    "        for key_M in keys_M:\n",
    "            \n",
    "            condition = (key_F in (\" \" + full_text)) and (key_M.lower() in (\" \" + full_text))\n",
    "            \n",
    "            if condition is True:\n",
    "                article_info = {'date': df_cleaned.date[index], 'title': df_cleaned.title[index],\n",
    "                                \"abstract\": df_cleaned.abstract[index], 'full_text': df_cleaned.full_text[index]}\n",
    "                dataset.append(article_info)\n",
    "                \n",
    "                condition_satisfied = True\n",
    "                break\n",
    "        \n",
    "        if condition_satisfied:\n",
    "            break\n",
    "            "
   ]
  },
  {
   "cell_type": "code",
   "execution_count": 95,
   "id": "b2022240",
   "metadata": {},
   "outputs": [],
   "source": [
    "data = pd.DataFrame(dataset)"
   ]
  },
  {
   "cell_type": "code",
   "execution_count": 96,
   "id": "c81935cb",
   "metadata": {},
   "outputs": [
    {
     "data": {
      "text/html": [
       "<div>\n",
       "<style scoped>\n",
       "    .dataframe tbody tr th:only-of-type {\n",
       "        vertical-align: middle;\n",
       "    }\n",
       "\n",
       "    .dataframe tbody tr th {\n",
       "        vertical-align: top;\n",
       "    }\n",
       "\n",
       "    .dataframe thead th {\n",
       "        text-align: right;\n",
       "    }\n",
       "</style>\n",
       "<table border=\"1\" class=\"dataframe\">\n",
       "  <thead>\n",
       "    <tr style=\"text-align: right;\">\n",
       "      <th></th>\n",
       "      <th>date</th>\n",
       "      <th>title</th>\n",
       "      <th>abstract</th>\n",
       "      <th>full_text</th>\n",
       "    </tr>\n",
       "  </thead>\n",
       "  <tbody>\n",
       "    <tr>\n",
       "      <th>0</th>\n",
       "      <td>01 Jan 2000</td>\n",
       "      <td>Bonds' Bad Year Closes With Whimper: [FINAL Ed...</td>\n",
       "      <td>\"Treasuries are still falling this morning, ta...</td>\n",
       "      <td>While tech stocks boomed and most major equity...</td>\n",
       "    </tr>\n",
       "    <tr>\n",
       "      <th>1</th>\n",
       "      <td>01 Jan 2000</td>\n",
       "      <td>Technology-Led Market Keeps Up Momentum: [FINA...</td>\n",
       "      <td>The year's star was the tech-laden Nasdaq comp...</td>\n",
       "      <td>Stocks ended the year on an up note, capping t...</td>\n",
       "    </tr>\n",
       "    <tr>\n",
       "      <th>2</th>\n",
       "      <td>01 Jan 2000</td>\n",
       "      <td>100 Lives; This Is Who We Were.: [FINAL Edition]</td>\n",
       "      <td>My name is Larissa Kosmos. I'm 28. I'm blessed...</td>\n",
       "      <td>My name is Larissa Kosmos. I'm 28. I'm blessed...</td>\n",
       "    </tr>\n",
       "    <tr>\n",
       "      <th>3</th>\n",
       "      <td>02 Jan 2000</td>\n",
       "      <td>After the Boom, More of the Same?: [FINAL Edit...</td>\n",
       "      <td>Part of the growth is due to the constant incr...</td>\n",
       "      <td>Next month the nation's extraordinary economic...</td>\n",
       "    </tr>\n",
       "    <tr>\n",
       "      <th>4</th>\n",
       "      <td>02 Jan 2000</td>\n",
       "      <td>Basis Points: [FINAL Edition]</td>\n",
       "      <td>John M. Berry notes that the Treasury will sel...</td>\n",
       "      <td>Bond yields generally closed the week and the ...</td>\n",
       "    </tr>\n",
       "    <tr>\n",
       "      <th>...</th>\n",
       "      <td>...</td>\n",
       "      <td>...</td>\n",
       "      <td>...</td>\n",
       "      <td>...</td>\n",
       "    </tr>\n",
       "    <tr>\n",
       "      <th>9399</th>\n",
       "      <td>20 Dec 2021</td>\n",
       "      <td>Fill the vacancies</td>\n",
       "      <td>NaN</td>\n",
       "      <td>President Biden has yet to name anyone to fill...</td>\n",
       "    </tr>\n",
       "    <tr>\n",
       "      <th>9400</th>\n",
       "      <td>22 Dec 2021</td>\n",
       "      <td>Mr. Summers's courage</td>\n",
       "      <td>NaN</td>\n",
       "      <td>Lawrence H. Summers continues to make the case...</td>\n",
       "    </tr>\n",
       "    <tr>\n",
       "      <th>9401</th>\n",
       "      <td>22 Dec 2021</td>\n",
       "      <td>Just accept that Biden is not the new FDR</td>\n",
       "      <td>NaN</td>\n",
       "      <td>Something called Build Back Better may eventua...</td>\n",
       "    </tr>\n",
       "    <tr>\n",
       "      <th>9402</th>\n",
       "      <td>26 Dec 2021</td>\n",
       "      <td>2020 was the craziest, creepiest year - until ...</td>\n",
       "      <td>NaN</td>\n",
       "      <td>This is the craziest, creepiest year in both t...</td>\n",
       "    </tr>\n",
       "    <tr>\n",
       "      <th>9403</th>\n",
       "      <td>30 Dec 2021</td>\n",
       "      <td>Continuing inflation set to be a top issue in ...</td>\n",
       "      <td>NaN</td>\n",
       "      <td>Little relief expected as prices rise at faste...</td>\n",
       "    </tr>\n",
       "  </tbody>\n",
       "</table>\n",
       "<p>9404 rows × 4 columns</p>\n",
       "</div>"
      ],
      "text/plain": [
       "             date                                              title  \\\n",
       "0     01 Jan 2000  Bonds' Bad Year Closes With Whimper: [FINAL Ed...   \n",
       "1     01 Jan 2000  Technology-Led Market Keeps Up Momentum: [FINA...   \n",
       "2     01 Jan 2000   100 Lives; This Is Who We Were.: [FINAL Edition]   \n",
       "3     02 Jan 2000  After the Boom, More of the Same?: [FINAL Edit...   \n",
       "4     02 Jan 2000                      Basis Points: [FINAL Edition]   \n",
       "...           ...                                                ...   \n",
       "9399  20 Dec 2021                                 Fill the vacancies   \n",
       "9400  22 Dec 2021                              Mr. Summers's courage   \n",
       "9401  22 Dec 2021          Just accept that Biden is not the new FDR   \n",
       "9402  26 Dec 2021  2020 was the craziest, creepiest year - until ...   \n",
       "9403  30 Dec 2021  Continuing inflation set to be a top issue in ...   \n",
       "\n",
       "                                               abstract  \\\n",
       "0     \"Treasuries are still falling this morning, ta...   \n",
       "1     The year's star was the tech-laden Nasdaq comp...   \n",
       "2     My name is Larissa Kosmos. I'm 28. I'm blessed...   \n",
       "3     Part of the growth is due to the constant incr...   \n",
       "4     John M. Berry notes that the Treasury will sel...   \n",
       "...                                                 ...   \n",
       "9399                                                NaN   \n",
       "9400                                                NaN   \n",
       "9401                                                NaN   \n",
       "9402                                                NaN   \n",
       "9403                                                NaN   \n",
       "\n",
       "                                              full_text  \n",
       "0     While tech stocks boomed and most major equity...  \n",
       "1     Stocks ended the year on an up note, capping t...  \n",
       "2     My name is Larissa Kosmos. I'm 28. I'm blessed...  \n",
       "3     Next month the nation's extraordinary economic...  \n",
       "4     Bond yields generally closed the week and the ...  \n",
       "...                                                 ...  \n",
       "9399  President Biden has yet to name anyone to fill...  \n",
       "9400  Lawrence H. Summers continues to make the case...  \n",
       "9401  Something called Build Back Better may eventua...  \n",
       "9402  This is the craziest, creepiest year in both t...  \n",
       "9403  Little relief expected as prices rise at faste...  \n",
       "\n",
       "[9404 rows x 4 columns]"
      ]
     },
     "execution_count": 96,
     "metadata": {},
     "output_type": "execute_result"
    }
   ],
   "source": [
    "data"
   ]
  },
  {
   "cell_type": "code",
   "execution_count": 98,
   "id": "4d850e6b",
   "metadata": {},
   "outputs": [],
   "source": [
    "#data.to_csv(\"news_data.csv\", index = False)"
   ]
  }
 ],
 "metadata": {
  "kernelspec": {
   "display_name": "Python 3",
   "language": "python",
   "name": "python3"
  },
  "language_info": {
   "codemirror_mode": {
    "name": "ipython",
    "version": 3
   },
   "file_extension": ".py",
   "mimetype": "text/x-python",
   "name": "python",
   "nbconvert_exporter": "python",
   "pygments_lexer": "ipython3",
   "version": "3.8.8"
  }
 },
 "nbformat": 4,
 "nbformat_minor": 5
}
