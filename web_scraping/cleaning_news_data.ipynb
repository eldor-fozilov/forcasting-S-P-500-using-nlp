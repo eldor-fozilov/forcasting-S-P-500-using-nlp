{
 "cells": [
  {
   "cell_type": "code",
   "execution_count": null,
   "id": "dafd5c8b",
   "metadata": {},
   "outputs": [],
   "source": [
    "from selenium import webdriver\n",
    "from selenium.webdriver.common.by import By\n",
    "import chromedriver_autoinstaller\n",
    "from selenium.common.exceptions import NoSuchElementException\n",
    "from selenium.webdriver.support.ui import WebDriverWait\n",
    "from selenium.webdriver.support import expected_conditions as EC\n",
    "import re\n",
    "import time"
   ]
  },
  {
   "cell_type": "code",
   "execution_count": null,
   "id": "9780b85a",
   "metadata": {},
   "outputs": [],
   "source": [
    "import pandas as pd\n",
    "import numpy as np"
   ]
  },
  {
   "cell_type": "code",
   "execution_count": null,
   "id": "94cf8a3b",
   "metadata": {},
   "outputs": [],
   "source": [
    "import requests\n",
    "import random"
   ]
  },
  {
   "cell_type": "code",
   "execution_count": null,
   "id": "642b293b",
   "metadata": {},
   "outputs": [],
   "source": [
    "df = pd.read_csv(\"news_df.csv\")"
   ]
  },
  {
   "cell_type": "code",
   "execution_count": null,
   "id": "12a16ed6",
   "metadata": {},
   "outputs": [],
   "source": [
    "df"
   ]
  },
  {
   "cell_type": "code",
   "execution_count": null,
   "id": "3b03af6f",
   "metadata": {},
   "outputs": [],
   "source": [
    "df_nan = df[df.full_text.isnull() == True]"
   ]
  },
  {
   "cell_type": "code",
   "execution_count": null,
   "id": "a720183d",
   "metadata": {},
   "outputs": [],
   "source": [
    "opts = webdriver.ChromeOptions()\n",
    "opts.headless =True"
   ]
  },
  {
   "cell_type": "code",
   "execution_count": null,
   "id": "a22df6ae",
   "metadata": {
    "scrolled": true
   },
   "outputs": [],
   "source": [
    "chromedriver_autoinstaller.install()\n",
    "driver = webdriver.Chrome()\n",
    "driver.implicitly_wait(10)"
   ]
  },
  {
   "cell_type": "code",
   "execution_count": null,
   "id": "25270442",
   "metadata": {},
   "outputs": [],
   "source": [
    "search_url = \"https://www.proquest.com/washingtonpost\"\n",
    "driver.get(search_url)\n"
   ]
  },
  {
   "cell_type": "code",
   "execution_count": null,
   "id": "29889a38",
   "metadata": {},
   "outputs": [],
   "source": [
    "driver.find_element(By.XPATH, '//*[@id=\"product-level-nav\"]/li[2]').click()"
   ]
  },
  {
   "cell_type": "code",
   "execution_count": null,
   "id": "c9b64ffe",
   "metadata": {},
   "outputs": [],
   "source": [
    "dataset = []\n",
    "num_articles_scraped = 0\n",
    "pattern_date = '[0-9]{1,2}\\s[A-Za-z]{3,5}\\s[0-9]{4}'"
   ]
  },
  {
   "cell_type": "code",
   "execution_count": null,
   "id": "b79b951e",
   "metadata": {
    "scrolled": true
   },
   "outputs": [],
   "source": [
    "def extract_articles(url, keys, dataset):\n",
    "    time.sleep(5)\n",
    "    driver_temp = webdriver.Chrome(options = opts)\n",
    "    driver_temp.implicitly_wait(10)\n",
    "\n",
    "    articles = driver.find_elements(By.CLASS_NAME, 'resultItem')\n",
    "    driver_temp.get(url)\n",
    "    \n",
    "    if len(articles) == 0:\n",
    "        print(\"Could not find the article with the title:\\n\" + keys + \"\\n\")\n",
    "        return None\n",
    "    \n",
    "    for article in articles:\n",
    "\n",
    "        title = article.find_element(By.XPATH, './/*[@id=\"citationDocTitleLink\"]').get_attribute(\"title\")\n",
    "        if keys != title:\n",
    "            break\n",
    "        date_text = article.find_element(By.CLASS_NAME,'newspaperArticle').text\n",
    "        date = re.search(pattern_date, date_text).group()\n",
    "\n",
    "        link = article.find_element(By.XPATH, './/*[@id=\"citationDocTitleLink\"]').get_attribute(\"href\")\n",
    "\n",
    "\n",
    "        driver_temp.execute_script(\"window.open('');\")\n",
    "        driver_temp.switch_to.window(driver_temp.window_handles[1])\n",
    "        driver_temp.get(link)\n",
    "\n",
    "        try:\n",
    "            WebDriverWait(driver_temp, 5).until(\n",
    "                EC.presence_of_element_located((By.XPATH, '//*[@id=\"fullTextZone\"]/text'))\n",
    "            )\n",
    "            full_text = driver_temp.find_element(By.XPATH, '//*[@id=\"fullTextZone\"]/text').text\n",
    "        except:\n",
    "            full_text = np.nan\n",
    "\n",
    "        try:\n",
    "            abstract = driver_temp.find_element(By.CLASS_NAME,'abstract').text\n",
    "        except NoSuchElementException:\n",
    "            abstract = np.nan\n",
    "\n",
    "\n",
    "        article_info = {'date': date, 'title': title, \"abstract\": abstract, 'full_text': full_text}\n",
    "        dataset.append(article_info)\n",
    "        global num_articles_scraped\n",
    "        num_articles_scraped += 1\n",
    "        print(f\"Number of scraped articles: {num_articles_scraped}\")\n",
    "        driver_temp.close()\n",
    "        driver_temp.switch_to.window(driver_temp.window_handles[0])\n",
    "        time.sleep(random.uniform(5, 10))\n",
    "\n",
    "    driver_temp.quit()\n"
   ]
  },
  {
   "cell_type": "code",
   "execution_count": null,
   "id": "078aad54",
   "metadata": {},
   "outputs": [],
   "source": [
    "months = {\"Jan\": 1, \"Feb\": 2, \"Mar\": 3, \"Apr\":4,\"May\":5,\"June\":6,\n",
    "          \"July\":7,\"Aug\":8,\"Sep\":9,\"Oct\":10,\"Nov\":11,\"Dec\":12}\n",
    "\n",
    "\n",
    "for index in range(len(df_nan)):\n",
    "    s = df_nan.date.iloc[index].split(\" \")\n",
    "    day = int(s[0])\n",
    "    month = months[s[1]]\n",
    "    year = s[2]\n",
    "    \n",
    "    driver.find_element(By.XPATH,'//*[@id=\"select_multiDateRange\"]/option[7]').click()\n",
    "    driver.find_element(By.XPATH,f'//*[@id=\"month2\"]/option[{month + 1}]').click()\n",
    "    driver.find_element(By.XPATH,f'//*[@id=\"day2\"]/option[{day + 1}]').click()\n",
    "    driver.find_element(By.XPATH,'//*[@id=\"year2\"]').clear()\n",
    "    driver.find_element(By.XPATH,'//*[@id=\"year2\"]').send_keys(year)\n",
    "    \n",
    "    driver.find_element(By.XPATH,'//*[@id=\"SourceType_Newspapers\"]').click()\n",
    "    driver.find_element(By.XPATH,'//*[@id=\"Language_ENG\"]').click()\n",
    "    \n",
    "    keys = df_nan.title.iloc[index]\n",
    "    driver.find_element(By.XPATH, '//*[@id=\"queryTermField\"]').clear()\n",
    "    driver.find_element(By.XPATH, '//*[@id=\"queryTermField\"]').send_keys(keys)\n",
    "    driver.find_element(By.XPATH, '//*[@id=\"searchToResultPage\"]').click()\n",
    "    \n",
    "    extract_articles(driver.current_url, keys ,dataset)\n",
    "    driver.back()\n",
    "    time.sleep(5)\n",
    "    \n",
    "df_nan_scraped = pd.DataFrame(dataset)\n",
    "driver.quit()\n",
    "    "
   ]
  },
  {
   "cell_type": "code",
   "execution_count": null,
   "id": "df5f76f7",
   "metadata": {},
   "outputs": [],
   "source": [
    "#df_nan_scraped.to_csv(\"news_data_scraped_nan.csv\", index = False)"
   ]
  },
  {
   "cell_type": "code",
   "execution_count": null,
   "id": "2fc820bf",
   "metadata": {},
   "outputs": [],
   "source": []
  },
  {
   "cell_type": "code",
   "execution_count": null,
   "id": "1f8768ac",
   "metadata": {},
   "outputs": [],
   "source": [
    "df_nan_temp = df[df.full_text.isnull() == True]"
   ]
  },
  {
   "cell_type": "code",
   "execution_count": null,
   "id": "e069843b",
   "metadata": {},
   "outputs": [],
   "source": [
    "index_list = df_nan_temp.index"
   ]
  },
  {
   "cell_type": "code",
   "execution_count": null,
   "id": "c7d0fc09",
   "metadata": {},
   "outputs": [],
   "source": [
    "for index in index_list:\n",
    "    date = df.loc[index, 'date']\n",
    "    title = df.loc[index, 'title']\n",
    "    \n",
    "    temp_index = (df_nan_scraped.title == title) & (df_nan_scraped.date == date)\n",
    "    \n",
    "    full_text = df_nan_scraped.full_text[temp_index]\n",
    "    abstract = df_nan_scraped.abstract[temp_index]\n",
    "    \n",
    "    if len(abstract) != 0:\n",
    "        df.loc[index, 'abstract'] = abstract.iloc[0]\n",
    "        \n",
    "    if len(full_text) != 0:\n",
    "         df.loc[index, 'full_text'] = full_text.iloc[0]\n"
   ]
  },
  {
   "cell_type": "code",
   "execution_count": null,
   "id": "fc7c6567",
   "metadata": {},
   "outputs": [],
   "source": [
    "df_nan_temp = df[df.full_text.isnull() == True]"
   ]
  },
  {
   "cell_type": "code",
   "execution_count": null,
   "id": "b7d61031",
   "metadata": {},
   "outputs": [],
   "source": [
    "df_nan_temp"
   ]
  },
  {
   "cell_type": "code",
   "execution_count": null,
   "id": "bb6b0a22",
   "metadata": {},
   "outputs": [],
   "source": [
    "df.drop(df_nan_temp.index, axis = 0, inplace = True)"
   ]
  },
  {
   "cell_type": "code",
   "execution_count": null,
   "id": "83a0c67f",
   "metadata": {},
   "outputs": [],
   "source": [
    "df.to_csv(\"cleaned_news_data_.csv\", index = False)"
   ]
  }
 ],
 "metadata": {
  "kernelspec": {
   "display_name": "Python 3",
   "language": "python",
   "name": "python3"
  },
  "language_info": {
   "codemirror_mode": {
    "name": "ipython",
    "version": 3
   },
   "file_extension": ".py",
   "mimetype": "text/x-python",
   "name": "python",
   "nbconvert_exporter": "python",
   "pygments_lexer": "ipython3",
   "version": "3.8.8"
  }
 },
 "nbformat": 4,
 "nbformat_minor": 5
}
